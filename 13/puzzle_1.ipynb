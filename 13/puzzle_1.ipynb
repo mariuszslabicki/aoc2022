{
 "cells": [
  {
   "cell_type": "code",
   "execution_count": 49,
   "metadata": {},
   "outputs": [
    {
     "name": "stdout",
     "output_type": "stream",
     "text": [
      "5555\n"
     ]
    }
   ],
   "source": [
    "import ast\n",
    "\n",
    "def compare(pkt_a, pkt_b):\n",
    "    # print(\"Compare\", pkt_a, \"vs.\", pkt_b)\n",
    "\n",
    "    while len(pkt_a) > 0 or len(pkt_b) > 0:\n",
    "        if len(pkt_a) == 0 and len(pkt_b) > 0:\n",
    "            return True\n",
    "        if len(pkt_a) > 0 and len(pkt_b) == 0:\n",
    "            return False\n",
    "        el_a = pkt_a.pop(0)\n",
    "        el_b = pkt_b.pop(0)\n",
    "        if isinstance(el_a, int) and isinstance(el_b, int):\n",
    "            if el_a < el_b:\n",
    "                return True\n",
    "            if el_a > el_b:\n",
    "                return False\n",
    "            \n",
    "        if isinstance(el_a, list) and isinstance(el_b, list):\n",
    "            result = compare(el_a, el_b)\n",
    "            if result is None:\n",
    "                continue\n",
    "            else:\n",
    "                return result \n",
    "            \n",
    "        if isinstance(el_a, list) and isinstance(el_b, int):\n",
    "            el_b = [el_b]\n",
    "            result = compare(el_a, el_b)\n",
    "            if result is None:\n",
    "                continue\n",
    "            else:\n",
    "                return result \n",
    "            \n",
    "        if isinstance(el_a, int) and isinstance(el_b, list):\n",
    "            el_a = [el_a]\n",
    "            result = compare(el_a, el_b)\n",
    "            if result is None:\n",
    "                continue\n",
    "            else:\n",
    "                return result \n",
    "            \n",
    "packets = []\n",
    "try:\n",
    "    f = open(\"input\", encoding = 'utf-8')\n",
    "    for row in f:\n",
    "        line = row.strip()\n",
    "        # print(len(line))\n",
    "        if len(line) == 0:\n",
    "            continue\n",
    "        packets.append(line)\n",
    "\n",
    "finally:\n",
    "    f.close()\n",
    "\n",
    "index = 1\n",
    "total = 0\n",
    "\n",
    "while len(packets) > 0:\n",
    "    pkt_a = packets.pop(0)\n",
    "    pkt_b = packets.pop(0)\n",
    "    pkt_a = ast.literal_eval(pkt_a)\n",
    "    pkt_b = ast.literal_eval(pkt_b)\n",
    "    result = compare(pkt_a, pkt_b)\n",
    "    if result is True:\n",
    "        total += index\n",
    "    index += 1\n",
    "\n",
    "print(total)\n",
    "    "
   ]
  }
 ],
 "metadata": {
  "kernelspec": {
   "display_name": ".venv",
   "language": "python",
   "name": "python3"
  },
  "language_info": {
   "codemirror_mode": {
    "name": "ipython",
    "version": 3
   },
   "file_extension": ".py",
   "mimetype": "text/x-python",
   "name": "python",
   "nbconvert_exporter": "python",
   "pygments_lexer": "ipython3",
   "version": "3.10.6"
  },
  "orig_nbformat": 4,
  "vscode": {
   "interpreter": {
    "hash": "05b9a493738b5f4d39a7aa96b5de2eaf28fb11372ce74d7e29877b4c342919bf"
   }
  }
 },
 "nbformat": 4,
 "nbformat_minor": 2
}
