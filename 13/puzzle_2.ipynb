{
 "cells": [
  {
   "cell_type": "code",
   "execution_count": 68,
   "metadata": {},
   "outputs": [
    {
     "name": "stdout",
     "output_type": "stream",
     "text": [
      "Result: 140\n"
     ]
    }
   ],
   "source": [
    "import functools\n",
    "import ast\n",
    "\n",
    "def compare(pkt_a, pkt_b):\n",
    "    i = 0\n",
    "    while len(pkt_a) > i or len(pkt_b) > i:\n",
    "        if len(pkt_a) == i and len(pkt_b) > i:\n",
    "            return -1\n",
    "        if len(pkt_a) > i and len(pkt_b) == i:\n",
    "            return 1\n",
    "        el_a = pkt_a[i]\n",
    "        el_b = pkt_b[i]\n",
    "        i += 1\n",
    "        if isinstance(el_a, int) and isinstance(el_b, int):\n",
    "            if el_a < el_b:\n",
    "                return -1\n",
    "            if el_a > el_b:\n",
    "                return 1\n",
    "            \n",
    "        if isinstance(el_a, list) and isinstance(el_b, list):\n",
    "            result = compare(el_a, el_b)\n",
    "            if result is None:\n",
    "                continue\n",
    "            else:\n",
    "                return result \n",
    "            \n",
    "        if isinstance(el_a, list) and isinstance(el_b, int):\n",
    "            el_b = [el_b]\n",
    "            result = compare(el_a, el_b)\n",
    "            if result is None:\n",
    "                continue\n",
    "            else:\n",
    "                return result \n",
    "            \n",
    "        if isinstance(el_a, int) and isinstance(el_b, list):\n",
    "            el_a = [el_a]\n",
    "            result = compare(el_a, el_b)\n",
    "            if result is None:\n",
    "                continue\n",
    "            else:\n",
    "                return result \n",
    "            \n",
    "packets = []\n",
    "try:\n",
    "    f = open(\"input\", encoding = 'utf-8')\n",
    "    for row in f:\n",
    "        line = row.strip()\n",
    "        if len(line) == 0:\n",
    "            continue\n",
    "        packets.append(ast.literal_eval(line))\n",
    "\n",
    "finally:\n",
    "    f.close()\n",
    "\n",
    "\n",
    "packets.append(ast.literal_eval(\"[[2]]\".strip()))\n",
    "packets.append(ast.literal_eval(\"[[6]]\".strip()))\n",
    "\n",
    "results = sorted(packets, key=functools.cmp_to_key(compare))\n",
    "\n",
    "\n",
    "\n",
    "pos_1 = results.index(ast.literal_eval(\"[[2]]\".strip())) + 1\n",
    "pos_2 = results.index(ast.literal_eval(\"[[6]]\".strip())) + 1\n",
    "\n",
    "print(\"Result:\", pos_1 * pos_2)"
   ]
  }
 ],
 "metadata": {
  "kernelspec": {
   "display_name": ".venv",
   "language": "python",
   "name": "python3"
  },
  "language_info": {
   "codemirror_mode": {
    "name": "ipython",
    "version": 3
   },
   "file_extension": ".py",
   "mimetype": "text/x-python",
   "name": "python",
   "nbconvert_exporter": "python",
   "pygments_lexer": "ipython3",
   "version": "3.10.6"
  },
  "orig_nbformat": 4,
  "vscode": {
   "interpreter": {
    "hash": "05b9a493738b5f4d39a7aa96b5de2eaf28fb11372ce74d7e29877b4c342919bf"
   }
  }
 },
 "nbformat": 4,
 "nbformat_minor": 2
}
