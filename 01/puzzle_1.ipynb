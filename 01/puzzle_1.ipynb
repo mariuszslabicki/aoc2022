{
 "cells": [
  {
   "cell_type": "code",
   "execution_count": 5,
   "metadata": {},
   "outputs": [
    {
     "name": "stdout",
     "output_type": "stream",
     "text": [
      "70698\n"
     ]
    }
   ],
   "source": [
    "try:\n",
    "   f = open(\"input\", encoding = 'utf-8')\n",
    "   highest_sum = 0\n",
    "   current_sum = 0\n",
    "   for row in f:\n",
    "    if len(row) == 1:\n",
    "        if current_sum > highest_sum:\n",
    "            highest_sum = current_sum\n",
    "        current_sum = 0\n",
    "    else:\n",
    "        current_sum += int(row)\n",
    "\n",
    "finally:\n",
    "   f.close()\n",
    "\n",
    "print(highest_sum)"
   ]
  }
 ],
 "metadata": {
  "kernelspec": {
   "display_name": "Python 3.10.6 ('.venv': venv)",
   "language": "python",
   "name": "python3"
  },
  "language_info": {
   "codemirror_mode": {
    "name": "ipython",
    "version": 3
   },
   "file_extension": ".py",
   "mimetype": "text/x-python",
   "name": "python",
   "nbconvert_exporter": "python",
   "pygments_lexer": "ipython3",
   "version": "3.10.6"
  },
  "orig_nbformat": 4,
  "vscode": {
   "interpreter": {
    "hash": "05b9a493738b5f4d39a7aa96b5de2eaf28fb11372ce74d7e29877b4c342919bf"
   }
  }
 },
 "nbformat": 4,
 "nbformat_minor": 2
}
