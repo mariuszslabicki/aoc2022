{
 "cells": [
  {
   "cell_type": "code",
   "execution_count": 14,
   "metadata": {},
   "outputs": [
    {
     "ename": "KeyboardInterrupt",
     "evalue": "",
     "output_type": "error",
     "traceback": [
      "\u001b[0;31m---------------------------------------------------------------------------\u001b[0m",
      "\u001b[0;31mKeyboardInterrupt\u001b[0m                         Traceback (most recent call last)",
      "Cell \u001b[0;32mIn[14], line 84\u001b[0m\n\u001b[1;32m     82\u001b[0m found \u001b[39m=\u001b[39m \u001b[39mFalse\u001b[39;00m\n\u001b[1;32m     83\u001b[0m \u001b[39mfor\u001b[39;00m sensor \u001b[39min\u001b[39;00m sensors:\n\u001b[0;32m---> 84\u001b[0m     \u001b[39mif\u001b[39;00m sensor\u001b[39m.\u001b[39mradius \u001b[39m>\u001b[39m\u001b[39m=\u001b[39m \u001b[39mabs\u001b[39m(x \u001b[39m-\u001b[39m sensor\u001b[39m.\u001b[39mx) \u001b[39m+\u001b[39m \u001b[39mabs\u001b[39;49m(y \u001b[39m-\u001b[39;49m sensor\u001b[39m.\u001b[39;49my):\n\u001b[1;32m     85\u001b[0m         found \u001b[39m=\u001b[39m \u001b[39mTrue\u001b[39;00m\n\u001b[1;32m     86\u001b[0m         delta_x \u001b[39m=\u001b[39m sensor\u001b[39m.\u001b[39mx \u001b[39m-\u001b[39m x\n",
      "\u001b[0;31mKeyboardInterrupt\u001b[0m: "
     ]
    }
   ],
   "source": [
    "from dataclasses import dataclass\n",
    "\n",
    "@dataclass\n",
    "class Sensor:\n",
    "    x: int\n",
    "    y: int\n",
    "    radius: int\n",
    "\n",
    "sensors = []\n",
    "\n",
    "beacons = []\n",
    "\n",
    "try:\n",
    "    f = open(\"input\", encoding = 'utf-8')\n",
    "    for row in f:\n",
    "        line = row.strip().split(\" \")\n",
    "        x = int(line[2][2:-1])\n",
    "        y = int(line[3][2:-1])\n",
    "        b_x = int(line[8][2:-1])\n",
    "        b_y = int(line[9][2:])\n",
    "        radius = abs(b_x - x) + abs(b_y - y)\n",
    "        sensor = Sensor(x, y, radius)\n",
    "        sensors.append(sensor)\n",
    "        beacons.append([b_x, b_y])\n",
    "\n",
    "finally:\n",
    "    f.close()\n",
    "\n",
    "x_min = 0\n",
    "x_max = 4000000\n",
    "y_min = 0\n",
    "y_max = 4000000\n",
    "\n",
    "found = True\n",
    "\n",
    "found_final = False\n",
    "\n",
    "x_final = -1\n",
    "y_final = -1\n",
    "\n",
    "for y in range(y_min, y_max): \n",
    "    x = x_min\n",
    "    while x < x_max:\n",
    "        found = False\n",
    "        for sensor in sensors:\n",
    "            if sensor.radius >= abs(x - sensor.x) + abs(y - sensor.y):\n",
    "                found = True\n",
    "                delta_x = sensor.x - x\n",
    "                delta_x += sensor.radius - abs(y-sensor.y)\n",
    "                x += delta_x\n",
    "                break\n",
    "        if found is False:\n",
    "            x_final = x\n",
    "            y_final = y\n",
    "            found_final = True\n",
    "            break\n",
    "        x += 1\n",
    "    if found_final is True:\n",
    "        break\n",
    "\n",
    "result = x * 4000000 + y\n",
    "\n",
    "print(result)"
   ]
  }
 ],
 "metadata": {
  "kernelspec": {
   "display_name": ".venv",
   "language": "python",
   "name": "python3"
  },
  "language_info": {
   "codemirror_mode": {
    "name": "ipython",
    "version": 3
   },
   "file_extension": ".py",
   "mimetype": "text/x-python",
   "name": "python",
   "nbconvert_exporter": "python",
   "pygments_lexer": "ipython3",
   "version": "3.10.6 (main, Nov 14 2022, 16:10:14) [GCC 11.3.0]"
  },
  "orig_nbformat": 4,
  "vscode": {
   "interpreter": {
    "hash": "05b9a493738b5f4d39a7aa96b5de2eaf28fb11372ce74d7e29877b4c342919bf"
   }
  }
 },
 "nbformat": 4,
 "nbformat_minor": 2
}
