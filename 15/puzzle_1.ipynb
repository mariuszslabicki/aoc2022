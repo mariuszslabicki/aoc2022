{
 "cells": [
  {
   "cell_type": "code",
   "execution_count": 6,
   "metadata": {},
   "outputs": [
    {
     "name": "stdout",
     "output_type": "stream",
     "text": [
      "length 4502208\n"
     ]
    }
   ],
   "source": [
    "import intervaltree\n",
    "\n",
    "from dataclasses import dataclass\n",
    "\n",
    "@dataclass\n",
    "class Sensor:\n",
    "    \"\"\"Class for keeping track of an item in inventory.\"\"\"\n",
    "    x: int\n",
    "    y: int\n",
    "    radius: int\n",
    "\n",
    "sensors = []\n",
    "\n",
    "beacons = []\n",
    "\n",
    "try:\n",
    "    f = open(\"input\", encoding = 'utf-8')\n",
    "    for row in f:\n",
    "        line = row.strip().split(\" \")\n",
    "        x = int(line[2][2:-1])\n",
    "        y = int(line[3][2:-1])\n",
    "        b_x = int(line[8][2:-1])\n",
    "        b_y = int(line[9][2:])\n",
    "        radius = abs(b_x - x) + abs(b_y - y)\n",
    "        sensor = Sensor(x, y, radius)\n",
    "        sensors.append(sensor)\n",
    "        beacons.append([b_x, b_y])\n",
    "\n",
    "finally:\n",
    "    f.close()\n",
    "\n",
    "test_y = 2000000\n",
    "\n",
    "excluded_pos = []\n",
    "\n",
    "for sensor in sensors:\n",
    "    if sensor.y + sensor.radius > test_y and sensor.y - sensor.radius < test_y:\n",
    "        for x in range(sensor.x - sensor.radius, sensor.x + sensor.radius):\n",
    "            dist = abs(x - sensor.x) + abs(test_y - sensor.y)\n",
    "            if dist == sensor.radius:\n",
    "                if x < x + 2*(sensor.x - x):\n",
    "                    excluded_pos.append([x, x + 2*(sensor.x - x)])\n",
    "                else:\n",
    "                    excluded_pos.append([x + 2*(sensor.x - x), x])\n",
    "                break\n",
    "\n",
    "summing = 0\n",
    "\n",
    "tree = intervaltree.IntervalTree.from_tuples(excluded_pos)\n",
    "\n",
    "tree.merge_overlaps(strict=False)\n",
    "\n",
    "begin =tree.begin()\n",
    "end = tree.end()\n",
    "\n",
    "print(\"length\", end-begin)\n"
   ]
  }
 ],
 "metadata": {
  "kernelspec": {
   "display_name": ".venv",
   "language": "python",
   "name": "python3"
  },
  "language_info": {
   "codemirror_mode": {
    "name": "ipython",
    "version": 3
   },
   "file_extension": ".py",
   "mimetype": "text/x-python",
   "name": "python",
   "nbconvert_exporter": "python",
   "pygments_lexer": "ipython3",
   "version": "3.10.6"
  },
  "orig_nbformat": 4,
  "vscode": {
   "interpreter": {
    "hash": "05b9a493738b5f4d39a7aa96b5de2eaf28fb11372ce74d7e29877b4c342919bf"
   }
  }
 },
 "nbformat": 4,
 "nbformat_minor": 2
}
