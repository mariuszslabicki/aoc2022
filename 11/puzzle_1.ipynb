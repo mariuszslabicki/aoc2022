{
 "cells": [
  {
   "cell_type": "code",
   "execution_count": 24,
   "metadata": {},
   "outputs": [
    {
     "name": "stdout",
     "output_type": "stream",
     "text": [
      "10605\n"
     ]
    }
   ],
   "source": [
    "import math\n",
    "\n",
    "def worry_level(item, monkey_no, operations):\n",
    "    operation = operations[monkey_no]\n",
    "    operation = operation.split(\" \")\n",
    "    element_b = 0\n",
    "    if operation[2] == \"old\":\n",
    "        element_b = item\n",
    "    else:\n",
    "        element_b = int(operation[2])\n",
    "\n",
    "    if operation[1] == \"+\":\n",
    "        return item + element_b\n",
    "    if operation[1] == \"*\":\n",
    "        return item * element_b\n",
    "\n",
    "items = []\n",
    "operations = []\n",
    "tests = []\n",
    "\n",
    "inspections = []\n",
    "\n",
    "try:\n",
    "    f = open(\"input\", encoding = 'utf-8')\n",
    "    one_test = []\n",
    "    for row in f:\n",
    "        line = row.strip()\n",
    "        if \"Starting\" in line:\n",
    "            inspections.append(0)\n",
    "            line = line.split(\":\")\n",
    "            elements = line[1].split(\",\")\n",
    "            current_items = []\n",
    "            for element in elements:\n",
    "                current_items.append(int(element))\n",
    "            items.append(current_items)\n",
    "        if \"Operation\" in line:\n",
    "            line = line.split(\"=\")\n",
    "            operations.append(line[1].strip())\n",
    "        if \"Test\" in line:\n",
    "            line = line.split(\" \")\n",
    "            one_test.append(int(line[3]))\n",
    "        if \"If true\" in line:\n",
    "            line = line.split(\" \")\n",
    "            one_test.append(int(line[5]))\n",
    "        if \"If false\" in line:\n",
    "            line = line.split(\" \")\n",
    "            one_test.append(int(line[5]))\n",
    "            tests.append(one_test)\n",
    "            one_test = []\n",
    "\n",
    "finally:\n",
    "    f.close()\n",
    "\n",
    "for turn in range(1, 21):\n",
    "    for monkey_no in range(len(items)):\n",
    "        for item in items[monkey_no]:\n",
    "            inspections[monkey_no] += 1\n",
    "            new_worry_level = worry_level(item, monkey_no, operations)\n",
    "            new_worry_level = math.floor(new_worry_level/3)\n",
    "            test_result = new_worry_level % tests[monkey_no][0]\n",
    "            if test_result == 0:\n",
    "                items[tests[monkey_no][1]].append(new_worry_level)\n",
    "            else:\n",
    "                items[tests[monkey_no][2]].append(new_worry_level)\n",
    "        items[monkey_no] = []\n",
    "\n",
    "inspections = sorted(inspections)\n",
    "\n",
    "activity = inspections[-1] * inspections[-2]\n",
    "\n",
    "print(activity)\n",
    "\n"
   ]
  }
 ],
 "metadata": {
  "kernelspec": {
   "display_name": ".venv",
   "language": "python",
   "name": "python3"
  },
  "language_info": {
   "codemirror_mode": {
    "name": "ipython",
    "version": 3
   },
   "file_extension": ".py",
   "mimetype": "text/x-python",
   "name": "python",
   "nbconvert_exporter": "python",
   "pygments_lexer": "ipython3",
   "version": "3.10.6"
  },
  "orig_nbformat": 4,
  "vscode": {
   "interpreter": {
    "hash": "05b9a493738b5f4d39a7aa96b5de2eaf28fb11372ce74d7e29877b4c342919bf"
   }
  }
 },
 "nbformat": 4,
 "nbformat_minor": 2
}
