{
 "cells": [
  {
   "cell_type": "code",
   "execution_count": 53,
   "metadata": {},
   "outputs": [
    {
     "name": "stdout",
     "output_type": "stream",
     "text": [
      "Results:\n",
      "WCZTHTMPS"
     ]
    }
   ],
   "source": [
    "import math\n",
    "\n",
    "found_length = False\n",
    "built_stacks = False\n",
    "stacks = []\n",
    "\n",
    "try:\n",
    "    f = open(\"input\", encoding = 'utf-8')\n",
    "    for row in f:\n",
    "        line = row.strip().split()\n",
    "        if found_length is False:\n",
    "            if len(line[0]) == 1:\n",
    "                found_length = True\n",
    "                no_of_stacks = int(line[-1])\n",
    "                for i in range(no_of_stacks):\n",
    "                    stacks.append([])\n",
    "                f.seek(0)\n",
    "                continue\n",
    "\n",
    "        if found_length is True and built_stacks is False:\n",
    "            line = row.strip()\n",
    "            if line[0] == '1':\n",
    "                built_stacks = True\n",
    "                continue\n",
    "            for i in range(len(row)):\n",
    "                if row[i].isalpha():\n",
    "                    # print(row[i])\n",
    "                    stack_no = math.floor(i/4)\n",
    "                    stacks[stack_no].append(row[i])\n",
    "\n",
    "        if found_length is True and built_stacks is True and len(line) > 1:\n",
    "            line = row.strip()\n",
    "            parts = line.split()\n",
    "            how_many = int(parts[1])\n",
    "            src = int(parts[3])-1\n",
    "            dst = int(parts[5])-1\n",
    "            while how_many > 0:\n",
    "                how_many -= 1\n",
    "                crate = stacks[src].pop(0)\n",
    "                stacks[dst].insert(0, crate)\n",
    "                \n",
    "\n",
    "        \n",
    " \n",
    "finally:\n",
    "    f.close()\n",
    "\n",
    "print(\"Results:\")\n",
    "for stack in stacks:\n",
    "    print(stack[0], end=\"\")"
   ]
  }
 ],
 "metadata": {
  "kernelspec": {
   "display_name": "Python 3.10.6 ('.venv': venv)",
   "language": "python",
   "name": "python3"
  },
  "language_info": {
   "codemirror_mode": {
    "name": "ipython",
    "version": 3
   },
   "file_extension": ".py",
   "mimetype": "text/x-python",
   "name": "python",
   "nbconvert_exporter": "python",
   "pygments_lexer": "ipython3",
   "version": "3.10.6"
  },
  "orig_nbformat": 4,
  "vscode": {
   "interpreter": {
    "hash": "c973f8d832c295de1582f1df3c045f9a04c4cc0ed19a16a5de479215ddc4b45a"
   }
  }
 },
 "nbformat": 4,
 "nbformat_minor": 2
}
