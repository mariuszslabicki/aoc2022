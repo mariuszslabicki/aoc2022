{
 "cells": [
  {
   "cell_type": "code",
   "execution_count": 98,
   "metadata": {},
   "outputs": [
    {
     "name": "stdout",
     "output_type": "stream",
     "text": [
      "Sum of size:  1844187\n"
     ]
    }
   ],
   "source": [
    "from anytree import AnyNode, RenderTree, Walker, PreOrderIter\n",
    "\n",
    "root = AnyNode(id=\"/\", type = \"dir\", size = 0)\n",
    "curent_node = root\n",
    "\n",
    "try:\n",
    "    f = open(\"input\", encoding = 'utf-8')\n",
    "    for row in f:\n",
    "        line = row.strip().split()\n",
    "        if line[0] == '$':\n",
    "            if line[1] == 'cd' and line[2] == '/':\n",
    "                current_node = root\n",
    "                continue\n",
    "            if line[1] == 'cd' and line[2] == '..':\n",
    "                current_node = current_node.parent\n",
    "                continue\n",
    "            if line[1] == 'cd' and line[2] != '/' and line[2] != '..':\n",
    "                for child in current_node.children:\n",
    "                    if child.id == line[2]:\n",
    "                        current_node = child\n",
    "                continue\n",
    "            if line[1] == 'ls':\n",
    "                continue\n",
    "        if line[0] == 'dir':\n",
    "            dir = AnyNode(id=line[1], parent=current_node, type = \"dir\", size = 0)\n",
    "            continue\n",
    "        if line[0] != 'dir':\n",
    "            file = AnyNode(id=line[1], parent=current_node, type = \"file\", size = 0)\n",
    "            file_size = int(line[0])\n",
    "            w = Walker()\n",
    "            track = w.walk(file, root)\n",
    "            steps = track[0]\n",
    "            end = track[1]\n",
    "            for step in steps:\n",
    "                step.size += file_size\n",
    "            end.size += file_size\n",
    "\n",
    "\n",
    "\n",
    "\n",
    "finally:\n",
    "    f.close()\n",
    "\n",
    "# print(RenderTree(root))\n",
    "\n",
    "size_sum = 0\n",
    "\n",
    "for element in PreOrderIter(root):\n",
    "    if element.type == \"dir\":\n",
    "        if element.size < 100000:\n",
    "            size_sum += element.size\n",
    "\n",
    "print(\"Sum of size: \", size_sum)"
   ]
  }
 ],
 "metadata": {
  "kernelspec": {
   "display_name": "Python 3.10.6 ('.venv': venv)",
   "language": "python",
   "name": "python3"
  },
  "language_info": {
   "codemirror_mode": {
    "name": "ipython",
    "version": 3
   },
   "file_extension": ".py",
   "mimetype": "text/x-python",
   "name": "python",
   "nbconvert_exporter": "python",
   "pygments_lexer": "ipython3",
   "version": "3.10.6"
  },
  "orig_nbformat": 4,
  "vscode": {
   "interpreter": {
    "hash": "c973f8d832c295de1582f1df3c045f9a04c4cc0ed19a16a5de479215ddc4b45a"
   }
  }
 },
 "nbformat": 4,
 "nbformat_minor": 2
}
