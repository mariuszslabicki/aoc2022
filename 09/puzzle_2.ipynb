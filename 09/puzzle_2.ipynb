{
 "cells": [
  {
   "cell_type": "code",
   "execution_count": 14,
   "metadata": {},
   "outputs": [
    {
     "name": "stdout",
     "output_type": "stream",
     "text": [
      "2493\n"
     ]
    }
   ],
   "source": [
    "import math\n",
    "\n",
    "rope = []\n",
    "for i in range(10):\n",
    "    rope.append([0, 0])\n",
    "\n",
    "visited = []\n",
    "\n",
    "try:\n",
    "    f = open(\"input\", encoding = 'utf-8')\n",
    "    for row in f:\n",
    "        line = row.strip().split()\n",
    "        direction = line[0]\n",
    "        steps  = int(line[1])\n",
    "        while steps > 0:\n",
    "            steps -= 1\n",
    "            if direction == 'R':\n",
    "                move = [0, 1]\n",
    "            if direction == 'L':\n",
    "                move = [0, -1]\n",
    "            if direction == 'U':\n",
    "                move = [1, 0]\n",
    "            if direction == 'D':\n",
    "                move = [-1, 0]\n",
    "            rope[0] = [sum(pos) for pos in zip(rope[0], move)]\n",
    "\n",
    "            for i in range(0, len(rope)-1):\n",
    "\n",
    "                dist = math.dist(rope[i], rope[i+1])\n",
    "                if dist >= 2:\n",
    "                    delta = list(x-y for x, y in zip(rope[i], rope[i+1]))\n",
    "                    for j in range(len(delta)):\n",
    "                        if delta[j] != 0:\n",
    "                            delta[j] = int(delta[j] / abs(delta[j]))\n",
    "                    rope[i+1] = [sum(pos) for pos in zip(rope[i+1], delta)]\n",
    "            if rope[-1] not in visited:\n",
    "                visited.append(rope[-1])\n",
    "\n",
    "finally:\n",
    "    f.close()\n",
    "\n",
    "print(len(visited))\n"
   ]
  }
 ],
 "metadata": {
  "kernelspec": {
   "display_name": ".venv",
   "language": "python",
   "name": "python3"
  },
  "language_info": {
   "codemirror_mode": {
    "name": "ipython",
    "version": 3
   },
   "file_extension": ".py",
   "mimetype": "text/x-python",
   "name": "python",
   "nbconvert_exporter": "python",
   "pygments_lexer": "ipython3",
   "version": "3.10.6"
  },
  "orig_nbformat": 4,
  "vscode": {
   "interpreter": {
    "hash": "05b9a493738b5f4d39a7aa96b5de2eaf28fb11372ce74d7e29877b4c342919bf"
   }
  }
 },
 "nbformat": 4,
 "nbformat_minor": 2
}
