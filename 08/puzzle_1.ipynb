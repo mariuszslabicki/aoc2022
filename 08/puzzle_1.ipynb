{
 "cells": [
  {
   "cell_type": "code",
   "execution_count": 51,
   "metadata": {},
   "outputs": [
    {
     "name": "stdout",
     "output_type": "stream",
     "text": [
      "21\n"
     ]
    }
   ],
   "source": [
    "trees = []\n",
    "\n",
    "try:\n",
    "    f = open(\"input\", encoding = 'utf-8')\n",
    "    for row in f:\n",
    "        line = row.strip().split()\n",
    "        row = []\n",
    "        for element in line[0]:\n",
    "            row.append(int(element))\n",
    "        trees.append(row)\n",
    "\n",
    "finally:\n",
    "    f.close()\n",
    "\n",
    "found = []\n",
    "\n",
    "for x in range(0, len(trees)):\n",
    "    highest = None\n",
    "    for y in range(0, len(trees)):\n",
    "        if highest is None or trees[x][y] > highest:\n",
    "            highest = trees[x][y]\n",
    "            if [x, y] not in found:\n",
    "                found.append([x, y])\n",
    "\n",
    "for y in range(0, len(trees)):\n",
    "    highest = None\n",
    "    for x in range(0, len(trees)):\n",
    "        if highest is None or trees[x][y] > highest:\n",
    "            highest = trees[x][y]\n",
    "            if [x, y] not in found:\n",
    "                found.append([x, y])\n",
    "\n",
    "for x in range(len(trees)-1, -1, -1):\n",
    "    highest = None\n",
    "    for y in range(len(trees)-1, -1, -1):\n",
    "        if highest is None or trees[x][y] > highest:\n",
    "            highest = trees[x][y]\n",
    "            if [x, y] not in found:\n",
    "                found.append([x, y])\n",
    "\n",
    "for y in range(len(trees)-1, -1, -1):\n",
    "    highest = None\n",
    "    for x in range(len(trees)-1, -1, -1):\n",
    "        if highest is None or trees[x][y] > highest:\n",
    "            highest = trees[x][y]\n",
    "            if [x, y] not in found:\n",
    "                found.append([x, y])\n",
    "\n",
    "print(len(found))\n",
    "\n"
   ]
  }
 ],
 "metadata": {
  "kernelspec": {
   "display_name": "Python 3.10.6 ('.venv': venv)",
   "language": "python",
   "name": "python3"
  },
  "language_info": {
   "codemirror_mode": {
    "name": "ipython",
    "version": 3
   },
   "file_extension": ".py",
   "mimetype": "text/x-python",
   "name": "python",
   "nbconvert_exporter": "python",
   "pygments_lexer": "ipython3",
   "version": "3.10.6"
  },
  "orig_nbformat": 4,
  "vscode": {
   "interpreter": {
    "hash": "c973f8d832c295de1582f1df3c045f9a04c4cc0ed19a16a5de479215ddc4b45a"
   }
  }
 },
 "nbformat": 4,
 "nbformat_minor": 2
}
