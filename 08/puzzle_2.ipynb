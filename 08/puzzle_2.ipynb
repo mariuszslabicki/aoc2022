{
 "cells": [
  {
   "cell_type": "code",
   "execution_count": 56,
   "metadata": {},
   "outputs": [
    {
     "name": "stdout",
     "output_type": "stream",
     "text": [
      "Highest score: 537600\n"
     ]
    }
   ],
   "source": [
    "trees = []\n",
    "\n",
    "try:\n",
    "    f = open(\"input\", encoding = 'utf-8')\n",
    "    for row in f:\n",
    "        line = row.strip().split()\n",
    "        row = []\n",
    "        for element in line[0]:\n",
    "            row.append(int(element))\n",
    "        trees.append(row)\n",
    "\n",
    "finally:\n",
    "    f.close()\n",
    "\n",
    "the_best_score = -1\n",
    "\n",
    "for x in range(len(trees)):\n",
    "    for y in range(len(trees)):\n",
    "        score = 1\n",
    "\n",
    "        current_h = trees[y][x]\n",
    "\n",
    "        view_range = 0\n",
    "        for xp in range(x+1, len(trees)):\n",
    "            view_range += 1\n",
    "            if trees[y][xp] >= current_h:\n",
    "                break\n",
    "        score *= view_range\n",
    "\n",
    "        view_range = 0\n",
    "        for xp in range(x-1, -1, -1):\n",
    "            view_range += 1\n",
    "            if trees[y][xp] >= current_h:\n",
    "                break\n",
    "        score *= view_range\n",
    "\n",
    "        view_range = 0\n",
    "        for yp in range(y+1, len(trees)):\n",
    "            view_range += 1\n",
    "            if trees[yp][x] >= current_h:\n",
    "                break\n",
    "        score *= view_range\n",
    "\n",
    "        view_range = 0\n",
    "        for yp in range(y-1, -1, -1):\n",
    "            view_range += 1\n",
    "            if trees[yp][x] >= current_h:\n",
    "                break\n",
    "        score *= view_range\n",
    "\n",
    "        if score > the_best_score:\n",
    "            the_best_score = score\n",
    "\n",
    "print(\"Highest score:\", the_best_score)\n"
   ]
  }
 ],
 "metadata": {
  "kernelspec": {
   "display_name": "Python 3.10.6 ('.venv': venv)",
   "language": "python",
   "name": "python3"
  },
  "language_info": {
   "codemirror_mode": {
    "name": "ipython",
    "version": 3
   },
   "file_extension": ".py",
   "mimetype": "text/x-python",
   "name": "python",
   "nbconvert_exporter": "python",
   "pygments_lexer": "ipython3",
   "version": "3.10.6"
  },
  "orig_nbformat": 4,
  "vscode": {
   "interpreter": {
    "hash": "c973f8d832c295de1582f1df3c045f9a04c4cc0ed19a16a5de479215ddc4b45a"
   }
  }
 },
 "nbformat": 4,
 "nbformat_minor": 2
}
