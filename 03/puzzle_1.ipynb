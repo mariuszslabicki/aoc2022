{
 "cells": [
  {
   "cell_type": "code",
   "execution_count": 37,
   "metadata": {},
   "outputs": [
    {
     "name": "stdout",
     "output_type": "stream",
     "text": [
      "Priority sum: 7990\n"
     ]
    }
   ],
   "source": [
    "prio_sum = 0\n",
    "\n",
    "try:\n",
    "    f = open(\"input\", encoding = 'utf-8')\n",
    "    for row in f:\n",
    "        rucksacks = row.strip().split()[0]\n",
    "        lhs = rucksacks[0:int(len(rucksacks)/2)]\n",
    "        rhs = rucksacks[int(len(rucksacks)/2):]\n",
    "        found = []\n",
    "        for element in lhs:\n",
    "            if element in rhs and element not in found:\n",
    "                found.append(element)\n",
    "        for element in found:\n",
    "            if element.islower():\n",
    "                prio_sum += (ord(element) - 96)\n",
    "            if element.isupper():\n",
    "                prio_sum += (ord(element) - 38)\n",
    " \n",
    "finally:\n",
    "    f.close()\n",
    "\n",
    "print(\"Priority sum:\", prio_sum)"
   ]
  }
 ],
 "metadata": {
  "kernelspec": {
   "display_name": "Python 3.10.6 ('.venv': venv)",
   "language": "python",
   "name": "python3"
  },
  "language_info": {
   "codemirror_mode": {
    "name": "ipython",
    "version": 3
   },
   "file_extension": ".py",
   "mimetype": "text/x-python",
   "name": "python",
   "nbconvert_exporter": "python",
   "pygments_lexer": "ipython3",
   "version": "3.10.6"
  },
  "orig_nbformat": 4,
  "vscode": {
   "interpreter": {
    "hash": "c973f8d832c295de1582f1df3c045f9a04c4cc0ed19a16a5de479215ddc4b45a"
   }
  }
 },
 "nbformat": 4,
 "nbformat_minor": 2
}
