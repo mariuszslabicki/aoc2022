{
 "cells": [
  {
   "cell_type": "code",
   "execution_count": 10,
   "metadata": {},
   "outputs": [
    {
     "name": "stdout",
     "output_type": "stream",
     "text": [
      "Priority sum: 2602\n"
     ]
    }
   ],
   "source": [
    "prio_sum = 0\n",
    "\n",
    "rucksack_1 = None\n",
    "rucksack_2 = None\n",
    "rucksack_3 = None\n",
    "\n",
    "try:\n",
    "    f = open(\"input\", encoding = 'utf-8')\n",
    "    for row in f:\n",
    "        rucksack = row.strip().split()[0]\n",
    "        if rucksack_1 is None:\n",
    "            rucksack_1 = rucksack\n",
    "            continue\n",
    "        if rucksack_1 is not None and rucksack_2 is None:\n",
    "            rucksack_2 = rucksack\n",
    "            continue\n",
    "        if rucksack_2 is not None and rucksack_3 is None:\n",
    "            rucksack_3 = rucksack\n",
    "\n",
    "            badge = []\n",
    "            for element in rucksack_1:\n",
    "                if element in rucksack_2 and element in rucksack_3 and element is not badge:\n",
    "                    badge = element\n",
    "                    if badge.islower():\n",
    "                        prio_sum += (ord(badge) - 96)\n",
    "                    if badge.isupper():\n",
    "                        prio_sum += (ord(badge) - 38)\n",
    "            rucksack_1 = None\n",
    "            rucksack_2 = None\n",
    "            rucksack_3 = None\n",
    " \n",
    "finally:\n",
    "    f.close()\n",
    "\n",
    "print(\"Priority sum:\", prio_sum)"
   ]
  }
 ],
 "metadata": {
  "kernelspec": {
   "display_name": "Python 3.10.6 ('.venv': venv)",
   "language": "python",
   "name": "python3"
  },
  "language_info": {
   "codemirror_mode": {
    "name": "ipython",
    "version": 3
   },
   "file_extension": ".py",
   "mimetype": "text/x-python",
   "name": "python",
   "nbconvert_exporter": "python",
   "pygments_lexer": "ipython3",
   "version": "3.10.6"
  },
  "orig_nbformat": 4,
  "vscode": {
   "interpreter": {
    "hash": "c973f8d832c295de1582f1df3c045f9a04c4cc0ed19a16a5de479215ddc4b45a"
   }
  }
 },
 "nbformat": 4,
 "nbformat_minor": 2
}
