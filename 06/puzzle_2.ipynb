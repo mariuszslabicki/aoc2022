{
 "cells": [
  {
   "cell_type": "code",
   "execution_count": 6,
   "metadata": {},
   "outputs": [
    {
     "name": "stdout",
     "output_type": "stream",
     "text": [
      "Znalazlem:  2447\n"
     ]
    }
   ],
   "source": [
    "try:\n",
    "    f = open(\"input\", encoding = 'utf-8')\n",
    "    for row in f:\n",
    "        marker = []\n",
    "        line = row.strip()\n",
    "        for i in range(len(line)-13):\n",
    "            clip = line[i:i+14]\n",
    "            if len(set(clip)) == 14:\n",
    "                print(\"Znalazlem: \", i+14)\n",
    "                break\n",
    "\n",
    "finally:\n",
    "    f.close()"
   ]
  }
 ],
 "metadata": {
  "kernelspec": {
   "display_name": "Python 3.10.6 ('.venv': venv)",
   "language": "python",
   "name": "python3"
  },
  "language_info": {
   "codemirror_mode": {
    "name": "ipython",
    "version": 3
   },
   "file_extension": ".py",
   "mimetype": "text/x-python",
   "name": "python",
   "nbconvert_exporter": "python",
   "pygments_lexer": "ipython3",
   "version": "3.10.6"
  },
  "orig_nbformat": 4,
  "vscode": {
   "interpreter": {
    "hash": "c973f8d832c295de1582f1df3c045f9a04c4cc0ed19a16a5de479215ddc4b45a"
   }
  }
 },
 "nbformat": 4,
 "nbformat_minor": 2
}
