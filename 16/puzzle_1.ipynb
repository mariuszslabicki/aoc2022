{
 "cells": [
  {
   "cell_type": "code",
   "execution_count": 8,
   "metadata": {},
   "outputs": [
    {
     "name": "stdout",
     "output_type": "stream",
     "text": [
      "Highest flow rate: 2250\n"
     ]
    }
   ],
   "source": [
    "def return_flow_rate(path, rates):\n",
    "    flow_rate = 0\n",
    "    activated = []\n",
    "    for j in range(i):\n",
    "        if path[j] == path[j+1] and path[j] not in activated and rates[path[j]] != 0:\n",
    "            activated.append(path[j])\n",
    "            flow_rate += (28-j) * rates[path[j]]\n",
    "    return flow_rate, activated\n",
    "\n",
    "rates = {}\n",
    "links = {}\n",
    "nodes = []\n",
    "\n",
    "try:\n",
    "    f = open(\"input\", encoding = 'utf-8')\n",
    "    for row in f:\n",
    "        line = row.strip().split(\" \")\n",
    "        valve = line[1]\n",
    "        nodes.append(valve)\n",
    "        rate = int(line[4][:-1].split(\"=\")[1])\n",
    "        rates[valve] = rate\n",
    "        exits = line[9:]\n",
    "        link = [valve]\n",
    "        for exit in exits:\n",
    "            if exit[-1] == ',':\n",
    "                link.append(exit[0:-1])\n",
    "            else:\n",
    "                link.append(exit)\n",
    "        links[valve] = link\n",
    "\n",
    "finally:\n",
    "    f.close()\n",
    "\n",
    "paths = []\n",
    "\n",
    "no_of_exits = len(links['AA'])\n",
    "for no in range(no_of_exits):\n",
    "    new_path = []\n",
    "    new_path.append(links['AA'][no])\n",
    "    paths.append(new_path)\n",
    "\n",
    "#32\n",
    "\n",
    "for i in range(1, 31):\n",
    "    new_paths = []\n",
    "\n",
    "    for path in paths:\n",
    "        no_of_exits = len(links[path[-1]])\n",
    "        for no in range(no_of_exits):\n",
    "            new_path = path.copy()\n",
    "            new_path.append(links[path[-1]][no])\n",
    "            new_paths.append(new_path)\n",
    "    paths = new_paths\n",
    "\n",
    "    unique = {}\n",
    "    for path in paths:\n",
    "        flow_rate, activated = return_flow_rate(path, rates)\n",
    "        activated.sort()\n",
    "        temp_key = str(activated) + str(path[-1])\n",
    "        if temp_key not in unique:\n",
    "            unique[temp_key] = [path, flow_rate]\n",
    "        else:\n",
    "            if unique[temp_key][1] < flow_rate:\n",
    "                unique[temp_key] = [path, flow_rate]    \n",
    "\n",
    "    selected_paths = []\n",
    "    for key in unique:\n",
    "        selected_paths.append(unique[key][0])\n",
    "    paths = selected_paths\n",
    "\n",
    "highest_flow_rate = -1\n",
    "highest_path = None\n",
    "highest_activated = None\n",
    "\n",
    "for path in paths:\n",
    "    flow_rate, activated = return_flow_rate(path, rates)\n",
    "    if flow_rate > highest_flow_rate:\n",
    "        highest_flow_rate = flow_rate\n",
    "        highest_path = path\n",
    "        highest_activated = activated\n",
    "\n",
    "print(\"Highest flow rate:\", highest_flow_rate)\n"
   ]
  }
 ],
 "metadata": {
  "kernelspec": {
   "display_name": ".venv",
   "language": "python",
   "name": "python3"
  },
  "language_info": {
   "codemirror_mode": {
    "name": "ipython",
    "version": 3
   },
   "file_extension": ".py",
   "mimetype": "text/x-python",
   "name": "python",
   "nbconvert_exporter": "python",
   "pygments_lexer": "ipython3",
   "version": "3.10.6"
  },
  "orig_nbformat": 4,
  "vscode": {
   "interpreter": {
    "hash": "05b9a493738b5f4d39a7aa96b5de2eaf28fb11372ce74d7e29877b4c342919bf"
   }
  }
 },
 "nbformat": 4,
 "nbformat_minor": 2
}
