{
 "cells": [
  {
   "cell_type": "code",
   "execution_count": 55,
   "metadata": {},
   "outputs": [
    {
     "name": "stdout",
     "output_type": "stream",
     "text": [
      "13289\n"
     ]
    }
   ],
   "source": [
    "from dataclasses import dataclass\n",
    "@dataclass\n",
    "class Item:\n",
    "    \"\"\"Class for keeping track of an item in inventory.\"\"\"\n",
    "    order: int\n",
    "    val: int\n",
    "\n",
    "def print_vals(values):\n",
    "    for element in values:\n",
    "        print(element.val, end=\" \")\n",
    "    print(\"\\n\")\n",
    "\n",
    "initial_values = []\n",
    "\n",
    "try:\n",
    "    f = open(\"input\", encoding = 'utf-8')\n",
    "    i = 0\n",
    "    for row in f:\n",
    "        initial_values.append(Item(i, int(row)))\n",
    "        i += 1\n",
    "\n",
    "\n",
    "finally:\n",
    "    f.close()\n",
    "\n",
    "\n",
    "current_values = initial_values.copy()\n",
    "\n",
    "for i in range(len(initial_values)):\n",
    "    found = False\n",
    "    for cur_pos in range(len(initial_values)):\n",
    "        if current_values[cur_pos].order == i:\n",
    "            new_pos = cur_pos + current_values[cur_pos].val\n",
    "            while new_pos <= 0:\n",
    "                new_pos = new_pos + len(initial_values)-1\n",
    "            while new_pos >= len(initial_values):\n",
    "                new_pos = new_pos - len(initial_values)+1\n",
    "            to_move = current_values.pop(cur_pos)\n",
    "            current_values.insert(new_pos, to_move)\n",
    "            found = True\n",
    "        if found is True:\n",
    "            break\n",
    "\n",
    "simple_list = []\n",
    "for element in current_values:\n",
    "    simple_list.append(element.val)\n",
    "\n",
    "pos_zero = simple_list.index(0)\n",
    "\n",
    "pos_a = pos_zero + 1000\n",
    "while pos_a <= 0:\n",
    "    pos_a = pos_a + len(initial_values)\n",
    "while pos_a >= len(initial_values):\n",
    "    pos_a = pos_a - len(initial_values)\n",
    "comp_a = simple_list[pos_a]\n",
    "\n",
    "pos_b = pos_zero + 2000\n",
    "while pos_b <= 0:\n",
    "    pos_b = pos_b + len(initial_values)\n",
    "while pos_b >= len(initial_values):\n",
    "    pos_b = pos_b - len(initial_values)\n",
    "comp_b = simple_list[pos_b]\n",
    "\n",
    "pos_c = pos_zero + 3000\n",
    "while pos_c <= 0:\n",
    "    pos_c = pos_c + len(initial_values)\n",
    "while pos_c >= len(initial_values):\n",
    "    pos_c = pos_c - len(initial_values)\n",
    "comp_c = simple_list[pos_c]\n",
    "\n",
    "final_sum = comp_a + comp_b + comp_c\n",
    "print(final_sum)"
   ]
  }
 ],
 "metadata": {
  "kernelspec": {
   "display_name": ".venv",
   "language": "python",
   "name": "python3"
  },
  "language_info": {
   "codemirror_mode": {
    "name": "ipython",
    "version": 3
   },
   "file_extension": ".py",
   "mimetype": "text/x-python",
   "name": "python",
   "nbconvert_exporter": "python",
   "pygments_lexer": "ipython3",
   "version": "3.10.6"
  },
  "orig_nbformat": 4,
  "vscode": {
   "interpreter": {
    "hash": "05b9a493738b5f4d39a7aa96b5de2eaf28fb11372ce74d7e29877b4c342919bf"
   }
  }
 },
 "nbformat": 4,
 "nbformat_minor": 2
}
