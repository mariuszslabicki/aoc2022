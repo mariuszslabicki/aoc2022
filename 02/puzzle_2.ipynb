{
 "cells": [
  {
   "cell_type": "code",
   "execution_count": 2,
   "metadata": {},
   "outputs": [
    {
     "name": "stdout",
     "output_type": "stream",
     "text": [
      "Final result: 12767\n"
     ]
    }
   ],
   "source": [
    "points = 0\n",
    "try:\n",
    "    f = open(\"input\", encoding = 'utf-8')\n",
    "    for row in f:\n",
    "        turn = row.strip().split()\n",
    "        if turn[0] == 'A':\n",
    "            if turn[1] == 'X':\n",
    "                points += 3\n",
    "            if turn[1] == 'Y': #draw\n",
    "                points += 1\n",
    "            if turn[1] == 'Z':\n",
    "                points += 2\n",
    "        if turn[0] == 'B':\n",
    "            if turn[1] == 'X':\n",
    "                points += 1\n",
    "            if turn[1] == 'Y': #draw\n",
    "                points += 2\n",
    "            if turn[1] == 'Z':\n",
    "                points += 3\n",
    "        if turn[0] == 'C':\n",
    "            if turn[1] == 'X':\n",
    "                points += 2\n",
    "            if turn[1] == 'Y': #draw\n",
    "                points += 3\n",
    "            if turn[1] == 'Z':\n",
    "                points += 1\n",
    "\n",
    "        if turn[1] == 'X':\n",
    "            points += 0\n",
    "        if turn[1] == 'Y':\n",
    "            points += 3\n",
    "        if turn[1] == 'Z':\n",
    "            points += 6\n",
    "            \n",
    " \n",
    "finally:\n",
    "    f.close()\n",
    "print(\"Final result:\", points)"
   ]
  }
 ],
 "metadata": {
  "kernelspec": {
   "display_name": "Python 3.10.6 ('.venv': venv)",
   "language": "python",
   "name": "python3"
  },
  "language_info": {
   "codemirror_mode": {
    "name": "ipython",
    "version": 3
   },
   "file_extension": ".py",
   "mimetype": "text/x-python",
   "name": "python",
   "nbconvert_exporter": "python",
   "pygments_lexer": "ipython3",
   "version": "3.10.6"
  },
  "orig_nbformat": 4,
  "vscode": {
   "interpreter": {
    "hash": "05b9a493738b5f4d39a7aa96b5de2eaf28fb11372ce74d7e29877b4c342919bf"
   }
  }
 },
 "nbformat": 4,
 "nbformat_minor": 2
}
