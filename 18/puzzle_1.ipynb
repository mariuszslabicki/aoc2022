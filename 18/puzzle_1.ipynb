{
 "cells": [
  {
   "cell_type": "code",
   "execution_count": 13,
   "metadata": {},
   "outputs": [
    {
     "name": "stdout",
     "output_type": "stream",
     "text": [
      "4504\n"
     ]
    }
   ],
   "source": [
    "xy_walls = dict()\n",
    "yz_walls = dict()\n",
    "xz_walls = dict()\n",
    "\n",
    "try:\n",
    "    f = open(\"input\", encoding = 'utf-8')\n",
    "    for row in f:\n",
    "        x, y, z = row.strip().split(\",\")\n",
    "        x = int(x)\n",
    "        y = int(y)\n",
    "        z = int(z)\n",
    "        if (x, y, z) not in xy_walls:\n",
    "            xy_walls[(x, y, z)] = 1\n",
    "        else:\n",
    "            xy_walls[(x, y, z)] += 1\n",
    "        if (x, y, z+1) not in xy_walls:\n",
    "            xy_walls[(x, y, z+1)] = 1\n",
    "        else:\n",
    "            xy_walls[(x, y, z+1)] += 1\n",
    "\n",
    "        if (x, y, z) not in yz_walls:\n",
    "            yz_walls[(x, y, z)] = 1\n",
    "        else:\n",
    "            yz_walls[(x, y, z)] += 1\n",
    "        if (x, y+1, z) not in yz_walls:\n",
    "            yz_walls[(x, y+1, z)] = 1\n",
    "        else:\n",
    "            yz_walls[(x, y+1, z)] += 1\n",
    "            \n",
    "        if (x, y, z) not in xz_walls:\n",
    "            xz_walls[(x, y, z)] = 1\n",
    "        else:\n",
    "            xz_walls[(x, y, z)] += 1\n",
    "        if (x+1, y, z) not in xz_walls:\n",
    "            xz_walls[(x+1, y, z)] = 1\n",
    "        else:\n",
    "            xz_walls[(x+1, y, z)] += 1\n",
    "\n",
    "\n",
    "finally:\n",
    "    f.close()\n",
    "\n",
    "disjoint = 0\n",
    "\n",
    "for key in xy_walls:\n",
    "    if xy_walls[key] == 1:\n",
    "        disjoint += 1\n",
    "\n",
    "for key in yz_walls:\n",
    "    if yz_walls[key] == 1:\n",
    "        disjoint += 1\n",
    "\n",
    "for key in xz_walls:\n",
    "    if xz_walls[key] == 1:\n",
    "        disjoint += 1\n",
    "\n",
    "print(disjoint)"
   ]
  }
 ],
 "metadata": {
  "kernelspec": {
   "display_name": ".venv",
   "language": "python",
   "name": "python3"
  },
  "language_info": {
   "codemirror_mode": {
    "name": "ipython",
    "version": 3
   },
   "file_extension": ".py",
   "mimetype": "text/x-python",
   "name": "python",
   "nbconvert_exporter": "python",
   "pygments_lexer": "ipython3",
   "version": "3.10.6"
  },
  "orig_nbformat": 4,
  "vscode": {
   "interpreter": {
    "hash": "05b9a493738b5f4d39a7aa96b5de2eaf28fb11372ce74d7e29877b4c342919bf"
   }
  }
 },
 "nbformat": 4,
 "nbformat_minor": 2
}
