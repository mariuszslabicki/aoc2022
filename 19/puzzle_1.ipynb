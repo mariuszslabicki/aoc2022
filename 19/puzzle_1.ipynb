{
 "cells": [
  {
   "cell_type": "code",
   "execution_count": 12,
   "metadata": {},
   "outputs": [
    {
     "name": "stdout",
     "output_type": "stream",
     "text": [
      "Blueprint: 1\n",
      "For: 1 max geode 9 current quality 9\n",
      "Blueprint: 2\n",
      "For: 2 max geode 12 current quality 33\n",
      "Quality: 33\n"
     ]
    }
   ],
   "source": [
    "# 1654 is too low\n",
    "\n",
    "import math\n",
    "import itertools\n",
    "\n",
    "blueprints = []\n",
    "\n",
    "try:\n",
    "    f = open(\"input\", encoding = 'utf-8')\n",
    "    for row in f:\n",
    "        blueprints.append(row)\n",
    "\n",
    "\n",
    "finally:\n",
    "    f.close()\n",
    "\n",
    "quality = 0\n",
    "\n",
    "for blueprint in blueprints:\n",
    "    pieces = blueprint.split()\n",
    "    id = int(pieces[1][:-1])\n",
    "    print(\"Blueprint:\", id)\n",
    "\n",
    "    ore_robot_cost = [int(pieces[6]), 0, 0]\n",
    "    clay_robot_cost = [int(pieces[12]), 0, 0]\n",
    "    obsidian_robot_cost = [int(pieces[18]), int(pieces[21]), 0]\n",
    "    geode_robot_cost = [int(pieces[27]), 0, int(pieces[30])]\n",
    "    ore_robots = 1\n",
    "    clay_robots = 0\n",
    "    obsidian_robots = 0\n",
    "    geode_robots = 0\n",
    "\n",
    "    statuses = set()\n",
    "    statuses.add((0, 0, 0, 0, 1, 0, 0, 0))\n",
    "\n",
    "    max_geode = 0\n",
    "\n",
    "    for i in range(1, 25):\n",
    "        # print(\"*****************\")\n",
    "        # print(\"Id\", id, \"Minute\", i)\n",
    "        new_statuses = set()\n",
    "        building_geode = False\n",
    "        for status in statuses:\n",
    "            # print(\"Current status\", status)\n",
    "            # print(status)\n",
    "            delta_ore = status[4] # no of ore\n",
    "            delta_clay = status[5] # no of clay\n",
    "            delta_obsidian = status[6] # no of obsidian\n",
    "            delta_geode = status[7] # no of geode\n",
    "\n",
    "            max_ore_robots = math.floor(status[0]/ore_robot_cost[0])\n",
    "            max_clay_robots = math.floor(status[0]/clay_robot_cost[0])\n",
    "            max_obsidian_robots = min(math.floor(status[0]/obsidian_robot_cost[0]), math.floor(status[1]/obsidian_robot_cost[1]))\n",
    "            max_geode_robots = min(math.floor(status[0]/geode_robot_cost[0]), math.floor(status[2]/geode_robot_cost[2]))\n",
    "            if max_geode_robots >= 2:\n",
    "                continue\n",
    "            if max_ore_robots >= 2 and max_clay_robots >= 2 and max_obsidian_robots >= 2:\n",
    "                continue\n",
    "            for case in [[0, 0, 0, 1], [0, 0, 1, 0], [0, 1, 0, 0], [1, 0, 0, 0], [0, 0, 0, 0]]:\n",
    "                if status[0] - case[0] * ore_robot_cost[0] - case[1] * clay_robot_cost[0] - case[2] * obsidian_robot_cost[0] - case[3] * geode_robot_cost[0] >= 0 and \\\n",
    "                    status[1] - case[0] * ore_robot_cost[1] - case[1] * clay_robot_cost[1] - case[2] * obsidian_robot_cost[1] - case[3] * geode_robot_cost[1] >= 0 and \\\n",
    "                    status[2] - case[0] * ore_robot_cost[2] - case[1] * clay_robot_cost[2] - case[2] * obsidian_robot_cost[2] - case[3] * geode_robot_cost[2] >= 0:\n",
    "                    \n",
    "                    new_ore = status[0] - case[0] * ore_robot_cost[0] - case[1] * clay_robot_cost[0] - case[2] * obsidian_robot_cost[0] - case[3] * geode_robot_cost[0]\n",
    "                    new_clay = status[1] - case[0] * ore_robot_cost[1] - case[1] * clay_robot_cost[1] - case[2] * obsidian_robot_cost[1] - case[3] * geode_robot_cost[1]\n",
    "                    new_obsidian = status[2] - case[0] * ore_robot_cost[2] - case[1] * clay_robot_cost[2] - case[2] * obsidian_robot_cost[2] - case[3] * geode_robot_cost[2]\n",
    "\n",
    "                    new_status = (new_ore + delta_ore, new_clay + delta_clay, new_obsidian + delta_obsidian, status[3] + delta_geode, \\\n",
    "                                  status[4] + case[0], status[5] + case[1], status[6] + case[2], status[7] + case[3])\n",
    "\n",
    "                    if new_status[3] >= max_geode:\n",
    "                        max_geode = new_status[3]\n",
    "                    new_statuses.add(new_status)\n",
    "                    if case == [0, 0, 0, 1]:\n",
    "                        break\n",
    "                    continue\n",
    "\n",
    "        statuses = new_statuses\n",
    "\n",
    "    quality += id * max_geode\n",
    "    print(\"For:\", id, \"max geode\", max_geode, \"current quality\", quality)\n",
    "    # break\n",
    "\n",
    "print(\"Quality:\", quality)\n"
   ]
  }
 ],
 "metadata": {
  "kernelspec": {
   "display_name": ".venv",
   "language": "python",
   "name": "python3"
  },
  "language_info": {
   "codemirror_mode": {
    "name": "ipython",
    "version": 3
   },
   "file_extension": ".py",
   "mimetype": "text/x-python",
   "name": "python",
   "nbconvert_exporter": "python",
   "pygments_lexer": "ipython3",
   "version": "3.10.6"
  },
  "orig_nbformat": 4,
  "vscode": {
   "interpreter": {
    "hash": "05b9a493738b5f4d39a7aa96b5de2eaf28fb11372ce74d7e29877b4c342919bf"
   }
  }
 },
 "nbformat": 4,
 "nbformat_minor": 2
}
