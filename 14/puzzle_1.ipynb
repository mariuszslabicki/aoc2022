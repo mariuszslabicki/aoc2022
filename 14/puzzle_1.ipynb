{
 "cells": [
  {
   "cell_type": "code",
   "execution_count": 31,
   "metadata": {},
   "outputs": [
    {
     "name": "stdout",
     "output_type": "stream",
     "text": [
      "No of grains 24\n"
     ]
    }
   ],
   "source": [
    "rocks = []\n",
    "sand = []\n",
    "\n",
    "highest_y = 0\n",
    "\n",
    "try:\n",
    "    f = open(\"input\", encoding = 'utf-8')\n",
    "    for row in f:\n",
    "        line = row.strip()\n",
    "        rock_sets = line.split(\" -> \")\n",
    "        for i in range(len(rock_sets)-1):\n",
    "            begin = [int(rock_sets[i].split(\",\")[0]), int(rock_sets[i].split(\",\")[1])]\n",
    "            end = [int(rock_sets[i+1].split(\",\")[0]), int(rock_sets[i+1].split(\",\")[1])]\n",
    "            diff = [end[0] - begin[0], end[1] - begin[1]]\n",
    "            no_of_steps = 0\n",
    "            if diff[0] != 0:\n",
    "                diff_unit = [int(diff[0] / abs(diff[0])), 0]\n",
    "                no_of_steps = abs(diff[0])\n",
    "            if diff[1] != 0:\n",
    "                diff_unit = [0, int(diff[1] / abs(diff[1]))]\n",
    "                no_of_steps = abs(diff[1])\n",
    "            current_rock = begin\n",
    "            while no_of_steps >= 0:\n",
    "                if current_rock not in rocks:\n",
    "                    if current_rock[1] > highest_y:\n",
    "                        highest_y = current_rock[1]\n",
    "                    rocks.append(current_rock.copy())\n",
    "                current_rock[0] += diff_unit[0]\n",
    "                current_rock[1] += diff_unit[1]\n",
    "                no_of_steps -= 1\n",
    "\n",
    "finally:\n",
    "    f.close()\n",
    "\n",
    "no_of_grains = 0\n",
    "starting_point = [500, 0]\n",
    "testing_position = starting_point.copy()\n",
    "\n",
    "for i in range(40000000):\n",
    "    # print(no_of_rounds)\n",
    "    next_pos = testing_position.copy()\n",
    "    next_pos[1] += 1\n",
    "    if next_pos not in rocks and next_pos not in sand:\n",
    "        testing_position = next_pos\n",
    "        if testing_position[1] >= highest_y:\n",
    "            print(\"No of grains\", no_of_grains)\n",
    "            break\n",
    "        continue\n",
    "\n",
    "    next_pos = testing_position.copy()\n",
    "    next_pos[0] -= 1\n",
    "    next_pos[1] += 1\n",
    "    if next_pos not in rocks and next_pos not in sand:\n",
    "        testing_position = next_pos\n",
    "        if testing_position[1] >= highest_y:\n",
    "            print(\"No of grains\", no_of_grains)\n",
    "            break\n",
    "        continue\n",
    "\n",
    "    next_pos = testing_position.copy()\n",
    "    next_pos[0] += 1\n",
    "    next_pos[1] += 1\n",
    "    if next_pos not in rocks and next_pos not in sand:\n",
    "        testing_position = next_pos\n",
    "        if testing_position[1] >= highest_y:\n",
    "            print(\"No of grains\", no_of_grains)\n",
    "            break\n",
    "        continue\n",
    "\n",
    "    sand.append(testing_position.copy())\n",
    "    no_of_grains += 1\n",
    "    testing_position = starting_point.copy()\n",
    "\n",
    "\n"
   ]
  }
 ],
 "metadata": {
  "kernelspec": {
   "display_name": ".venv",
   "language": "python",
   "name": "python3"
  },
  "language_info": {
   "codemirror_mode": {
    "name": "ipython",
    "version": 3
   },
   "file_extension": ".py",
   "mimetype": "text/x-python",
   "name": "python",
   "nbconvert_exporter": "python",
   "pygments_lexer": "ipython3",
   "version": "3.10.6"
  },
  "orig_nbformat": 4,
  "vscode": {
   "interpreter": {
    "hash": "05b9a493738b5f4d39a7aa96b5de2eaf28fb11372ce74d7e29877b4c342919bf"
   }
  }
 },
 "nbformat": 4,
 "nbformat_minor": 2
}
