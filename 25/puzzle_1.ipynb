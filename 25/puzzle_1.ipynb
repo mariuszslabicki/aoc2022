{
 "cells": [
  {
   "cell_type": "code",
   "execution_count": 5,
   "metadata": {},
   "outputs": [
    {
     "name": "stdout",
     "output_type": "stream",
     "text": [
      "2-00=12=21-0=01--000\n"
     ]
    }
   ],
   "source": [
    "import math\n",
    "import itertools\n",
    "\n",
    "# 34279402189875 wrong\n",
    "\n",
    "snafus = []\n",
    "\n",
    "try:\n",
    "    f = open(\"input\", encoding = 'utf-8')\n",
    "    y = 0\n",
    "    for row in f:\n",
    "        snafus.append(row.strip())\n",
    "\n",
    "finally:\n",
    "    f.close()\n",
    "\n",
    "total = 0\n",
    "\n",
    "for snafu in snafus:\n",
    "    snafu = snafu[::-1]\n",
    "    value = 0\n",
    "    pos = 0\n",
    "    for element in snafu:\n",
    "        if element == '=':\n",
    "            base = -2\n",
    "        elif element == '-':\n",
    "            base = -1\n",
    "        else:\n",
    "            base = int(element)\n",
    "        value += int(base * math.pow(5, pos))\n",
    "        pos += 1\n",
    "    total += value\n",
    "\n",
    "max_limit = 0\n",
    "no_of_char = 0\n",
    "\n",
    "rest = total\n",
    "\n",
    "while True:\n",
    "    max_limit += 2 * math.pow(5, no_of_char)\n",
    "    if max_limit > total:\n",
    "        break\n",
    "    no_of_char += 1\n",
    "\n",
    "new_snafu = []\n",
    "\n",
    "for pos in range(no_of_char, -1, -1):\n",
    "    new_char = []\n",
    "    new_abs = None\n",
    "    best_multiplier = None\n",
    "    for element in ['2', '1', '0', '-', '=']:\n",
    "        if element == '2':\n",
    "            multiplier = 2\n",
    "        if element == '1':\n",
    "            multiplier = 1\n",
    "        if element == '0':\n",
    "            multiplier = 0\n",
    "        if element == '-':\n",
    "            multiplier = -1\n",
    "        if element == '=':\n",
    "            multiplier = -2\n",
    "        temp_rest = rest - multiplier * math.pow(5, pos)\n",
    "        if new_abs is None or abs(temp_rest) < new_abs:\n",
    "            new_abs = abs(temp_rest)\n",
    "            best_multiplier = multiplier\n",
    "            new_char = element\n",
    "    rest = rest - best_multiplier * math.pow(5, pos)\n",
    "    new_snafu.append(new_char)\n",
    "\n",
    "print(\"\".join(new_snafu))"
   ]
  }
 ],
 "metadata": {
  "kernelspec": {
   "display_name": ".venv",
   "language": "python",
   "name": "python3"
  },
  "language_info": {
   "codemirror_mode": {
    "name": "ipython",
    "version": 3
   },
   "file_extension": ".py",
   "mimetype": "text/x-python",
   "name": "python",
   "nbconvert_exporter": "python",
   "pygments_lexer": "ipython3",
   "version": "3.10.6"
  },
  "orig_nbformat": 4,
  "vscode": {
   "interpreter": {
    "hash": "05b9a493738b5f4d39a7aa96b5de2eaf28fb11372ce74d7e29877b4c342919bf"
   }
  }
 },
 "nbformat": 4,
 "nbformat_minor": 2
}
