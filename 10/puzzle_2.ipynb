{
 "cells": [
  {
   "cell_type": "code",
   "execution_count": 21,
   "metadata": {},
   "outputs": [
    {
     "name": "stdout",
     "output_type": "stream",
     "text": [
      "####.#....###..#....####..##..####.#....\n",
      "#....#....#..#.#.......#.#..#....#.#....\n",
      "###..#....#..#.#......#..#......#..#....\n",
      "#....#....###..#.....#...#.##..#...#....\n",
      "#....#....#....#....#....#..#.#....#....\n",
      "####.####.#....####.####..###.####.####.\n"
     ]
    }
   ],
   "source": [
    "X = 1\n",
    "cycle_number = 0\n",
    "\n",
    "pixel_pos = 0\n",
    "\n",
    "sum = 0\n",
    "\n",
    "first_row = []\n",
    "\n",
    "try:\n",
    "    f = open(\"input\", encoding = 'utf-8')\n",
    "    for row in f:\n",
    "        line = row.strip().split()\n",
    "        command = line[0]\n",
    "        if command == \"noop\":\n",
    "            cycles = 1\n",
    "        if command == \"addx\":\n",
    "            cycles = 2\n",
    "            V = int(line[1])\n",
    "        while cycles > 0:\n",
    "            cycle_number += 1\n",
    "            cycles -= 1\n",
    "            if abs(X-(pixel_pos%40)) <= 1:\n",
    "                first_row.append('#')\n",
    "            else:\n",
    "                first_row.append('.')\n",
    "            pixel_pos += 1\n",
    "        if command == \"addx\":\n",
    "            X += V\n",
    "\n",
    "finally:\n",
    "    f.close()\n",
    "\n",
    "for i in range(len(first_row)):\n",
    "    print(first_row[i], end=\"\")\n",
    "    if i in [39, 79, 119, 159, 199, 239]:\n",
    "        print(\"\")\n"
   ]
  }
 ],
 "metadata": {
  "kernelspec": {
   "display_name": ".venv",
   "language": "python",
   "name": "python3"
  },
  "language_info": {
   "codemirror_mode": {
    "name": "ipython",
    "version": 3
   },
   "file_extension": ".py",
   "mimetype": "text/x-python",
   "name": "python",
   "nbconvert_exporter": "python",
   "pygments_lexer": "ipython3",
   "version": "3.10.6"
  },
  "orig_nbformat": 4,
  "vscode": {
   "interpreter": {
    "hash": "05b9a493738b5f4d39a7aa96b5de2eaf28fb11372ce74d7e29877b4c342919bf"
   }
  }
 },
 "nbformat": 4,
 "nbformat_minor": 2
}
