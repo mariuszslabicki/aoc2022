{
 "cells": [
  {
   "cell_type": "code",
   "execution_count": 10,
   "metadata": {},
   "outputs": [
    {
     "name": "stdout",
     "output_type": "stream",
     "text": [
      "Cycle: 20 V: 21\n",
      "Cycle: 60 V: 19\n",
      "Cycle: 100 V: 18\n",
      "Cycle: 140 V: 21\n",
      "Cycle: 180 V: 16\n",
      "Cycle: 220 V: 18\n",
      "Sum: 13140\n"
     ]
    }
   ],
   "source": [
    "X = 1\n",
    "cycle_number = 0\n",
    "\n",
    "sum = 0\n",
    "\n",
    "try:\n",
    "    f = open(\"input\", encoding = 'utf-8')\n",
    "    for row in f:\n",
    "        line = row.strip().split()\n",
    "        command = line[0]\n",
    "        if command == \"noop\":\n",
    "            cycles = 1\n",
    "        if command == \"addx\":\n",
    "            cycles = 2\n",
    "            V = int(line[1])\n",
    "        while cycles > 0:\n",
    "            cycle_number += 1\n",
    "            cycles -= 1\n",
    "            if cycle_number in [20, 60, 100, 140, 180, 220]:\n",
    "                print(\"Cycle:\", cycle_number, \"V:\", X)\n",
    "                sum+= cycle_number * X\n",
    "        if command == \"addx\":\n",
    "            X += V\n",
    "        # print(\"Cycle:\", cycle_number, \"V:\", X)\n",
    "\n",
    "finally:\n",
    "    f.close()\n",
    "\n",
    "print(\"Sum:\", sum)\n",
    "\n"
   ]
  }
 ],
 "metadata": {
  "kernelspec": {
   "display_name": ".venv",
   "language": "python",
   "name": "python3"
  },
  "language_info": {
   "codemirror_mode": {
    "name": "ipython",
    "version": 3
   },
   "file_extension": ".py",
   "mimetype": "text/x-python",
   "name": "python",
   "nbconvert_exporter": "python",
   "pygments_lexer": "ipython3",
   "version": "3.10.6"
  },
  "orig_nbformat": 4,
  "vscode": {
   "interpreter": {
    "hash": "05b9a493738b5f4d39a7aa96b5de2eaf28fb11372ce74d7e29877b4c342919bf"
   }
  }
 },
 "nbformat": 4,
 "nbformat_minor": 2
}
