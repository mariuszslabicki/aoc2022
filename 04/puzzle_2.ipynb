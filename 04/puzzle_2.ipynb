{
 "cells": [
  {
   "cell_type": "code",
   "execution_count": 6,
   "metadata": {},
   "outputs": [
    {
     "name": "stdout",
     "output_type": "stream",
     "text": [
      "Covered pairs: 827\n"
     ]
    }
   ],
   "source": [
    "covered_pairs = 0\n",
    "\n",
    "try:\n",
    "    f = open(\"input\", encoding = 'utf-8')\n",
    "    for row in f:\n",
    "        lhs, rhs = row.split(\",\")\n",
    "        first = [int(lhs.split(\"-\")[0]), int(lhs.split(\"-\")[1])]\n",
    "        second = [int(rhs.split(\"-\")[0]), int(rhs.split(\"-\")[1])]\n",
    "        if first[0] <= second[0] and second[1] <= first[1]:\n",
    "            covered_pairs += 1\n",
    "            continue\n",
    "        if second[0] <= first[0] and first[1] <= second[1]:\n",
    "            covered_pairs += 1\n",
    "            continue\n",
    "        if first[0] <= second[0] and second[0] <= first[1]:\n",
    "            covered_pairs += 1\n",
    "            continue\n",
    "        if second[0] <= first[0] and first[0] <= second[1]:\n",
    "            covered_pairs += 1\n",
    "            continue\n",
    "        \n",
    " \n",
    "finally:\n",
    "    f.close()\n",
    "\n",
    "print(\"Covered pairs:\", covered_pairs)"
   ]
  }
 ],
 "metadata": {
  "kernelspec": {
   "display_name": "Python 3.10.6 ('.venv': venv)",
   "language": "python",
   "name": "python3"
  },
  "language_info": {
   "codemirror_mode": {
    "name": "ipython",
    "version": 3
   },
   "file_extension": ".py",
   "mimetype": "text/x-python",
   "name": "python",
   "nbconvert_exporter": "python",
   "pygments_lexer": "ipython3",
   "version": "3.10.6"
  },
  "orig_nbformat": 4,
  "vscode": {
   "interpreter": {
    "hash": "c973f8d832c295de1582f1df3c045f9a04c4cc0ed19a16a5de479215ddc4b45a"
   }
  }
 },
 "nbformat": 4,
 "nbformat_minor": 2
}
