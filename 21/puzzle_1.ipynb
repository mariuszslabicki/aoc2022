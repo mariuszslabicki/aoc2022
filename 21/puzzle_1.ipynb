{
 "cells": [
  {
   "cell_type": "code",
   "execution_count": 31,
   "metadata": {},
   "outputs": [
    {
     "name": "stdout",
     "output_type": "stream",
     "text": [
      "70674280581468\n",
      "70674280581468\n",
      "70674280581468\n"
     ]
    },
    {
     "ename": "KeyboardInterrupt",
     "evalue": "",
     "output_type": "error",
     "traceback": [
      "\u001b[0;31m---------------------------------------------------------------------------\u001b[0m",
      "\u001b[0;31mKeyboardInterrupt\u001b[0m                         Traceback (most recent call last)",
      "Cell \u001b[0;32mIn[31], line 1\u001b[0m\n\u001b[0;32m----> 1\u001b[0m get_ipython()\u001b[39m.\u001b[39;49mrun_cell_magic(\u001b[39m'\u001b[39;49m\u001b[39mtimeit\u001b[39;49m\u001b[39m'\u001b[39;49m, \u001b[39m'\u001b[39;49m\u001b[39m'\u001b[39;49m, \u001b[39m'\u001b[39;49m\u001b[39m\\n\u001b[39;49;00m\u001b[39mmonkeys = \u001b[39;49m\u001b[39m{}\u001b[39;49;00m\u001b[39m\\n\u001b[39;49;00m\u001b[39m\\n\u001b[39;49;00m\u001b[39mtry:\u001b[39;49m\u001b[39m\\n\u001b[39;49;00m\u001b[39m    f = open(\u001b[39;49m\u001b[39m\"\u001b[39;49m\u001b[39minput\u001b[39;49m\u001b[39m\"\u001b[39;49m\u001b[39m, encoding = \u001b[39;49m\u001b[39m\\'\u001b[39;49;00m\u001b[39mutf-8\u001b[39;49m\u001b[39m\\'\u001b[39;49;00m\u001b[39m)\u001b[39;49m\u001b[39m\\n\u001b[39;49;00m\u001b[39m    for row in f:\u001b[39;49m\u001b[39m\\n\u001b[39;49;00m\u001b[39m        row = row.strip().split(\u001b[39;49m\u001b[39m\"\u001b[39;49m\u001b[39m: \u001b[39;49m\u001b[39m\"\u001b[39;49m\u001b[39m)\u001b[39;49m\u001b[39m\\n\u001b[39;49;00m\u001b[39m        if row[1].isdigit():\u001b[39;49m\u001b[39m\\n\u001b[39;49;00m\u001b[39m            monkeys[row[0]] = int(row[1])\u001b[39;49m\u001b[39m\\n\u001b[39;49;00m\u001b[39m        else:\u001b[39;49m\u001b[39m\\n\u001b[39;49;00m\u001b[39m            elements = row[1].split(\u001b[39;49m\u001b[39m\"\u001b[39;49m\u001b[39m \u001b[39;49m\u001b[39m\"\u001b[39;49m\u001b[39m)\u001b[39;49m\u001b[39m\\n\u001b[39;49;00m\u001b[39m            monkeys[row[0]] = [elements[0], elements[1], elements[2]]\u001b[39;49m\u001b[39m\\n\u001b[39;49;00m\u001b[39m\\n\u001b[39;49;00m\u001b[39mfinally:\u001b[39;49m\u001b[39m\\n\u001b[39;49;00m\u001b[39m    f.close()\u001b[39;49m\u001b[39m\\n\u001b[39;49;00m\u001b[39m\\n\u001b[39;49;00m\u001b[39mfound_root = False\u001b[39;49m\u001b[39m\\n\u001b[39;49;00m\u001b[39m\\n\u001b[39;49;00m\u001b[39mwhile True and found_root is False:\u001b[39;49m\u001b[39m\\n\u001b[39;49;00m\u001b[39m    found = False\u001b[39;49m\u001b[39m\\n\u001b[39;49;00m\u001b[39m    to_remove = []\u001b[39;49m\u001b[39m\\n\u001b[39;49;00m\u001b[39m    for element in monkeys:\u001b[39;49m\u001b[39m\\n\u001b[39;49;00m\u001b[39m        if isinstance(monkeys[element], int):\u001b[39;49m\u001b[39m\\n\u001b[39;49;00m\u001b[39m            if element == \u001b[39;49m\u001b[39m\\'\u001b[39;49;00m\u001b[39mroot\u001b[39;49m\u001b[39m\\'\u001b[39;49;00m\u001b[39m:\u001b[39;49m\u001b[39m\\n\u001b[39;49;00m\u001b[39m                print(monkeys[element])\u001b[39;49m\u001b[39m\\n\u001b[39;49;00m\u001b[39m                found_root = True\u001b[39;49m\u001b[39m\\n\u001b[39;49;00m\u001b[39m            for it in monkeys:\u001b[39;49m\u001b[39m\\n\u001b[39;49;00m\u001b[39m                if not isinstance(monkeys[it], int):\u001b[39;49m\u001b[39m\\n\u001b[39;49;00m\u001b[39m                    if monkeys[it][0] == element:\u001b[39;49m\u001b[39m\\n\u001b[39;49;00m\u001b[39m                        monkeys[it][0] = monkeys[element]\u001b[39;49m\u001b[39m\\n\u001b[39;49;00m\u001b[39m                        found = True\u001b[39;49m\u001b[39m\\n\u001b[39;49;00m\u001b[39m                    if monkeys[it][2] == element:\u001b[39;49m\u001b[39m\\n\u001b[39;49;00m\u001b[39m                        monkeys[it][2] = monkeys[element]\u001b[39;49m\u001b[39m\\n\u001b[39;49;00m\u001b[39m                        found = True\u001b[39;49m\u001b[39m\\n\u001b[39;49;00m\u001b[39m            to_remove.append(element)\u001b[39;49m\u001b[39m\\n\u001b[39;49;00m\u001b[39m    for element in monkeys:\u001b[39;49m\u001b[39m\\n\u001b[39;49;00m\u001b[39m        if not isinstance(monkeys[element], int):\u001b[39;49m\u001b[39m\\n\u001b[39;49;00m\u001b[39m            if isinstance(monkeys[element][0], int) and isinstance(monkeys[element][2], int):\u001b[39;49m\u001b[39m\\n\u001b[39;49;00m\u001b[39m                val_a = monkeys[element][0]\u001b[39;49m\u001b[39m\\n\u001b[39;49;00m\u001b[39m                val_b = monkeys[element][2]\u001b[39;49m\u001b[39m\\n\u001b[39;49;00m\u001b[39m                if monkeys[element][1] == \u001b[39;49m\u001b[39m\\'\u001b[39;49;00m\u001b[39m+\u001b[39;49m\u001b[39m\\'\u001b[39;49;00m\u001b[39m:\u001b[39;49m\u001b[39m\\n\u001b[39;49;00m\u001b[39m                    result = val_a + val_b\u001b[39;49m\u001b[39m\\n\u001b[39;49;00m\u001b[39m                if monkeys[element][1] == \u001b[39;49m\u001b[39m\\'\u001b[39;49;00m\u001b[39m-\u001b[39;49m\u001b[39m\\'\u001b[39;49;00m\u001b[39m:\u001b[39;49m\u001b[39m\\n\u001b[39;49;00m\u001b[39m                    result = val_a - val_b\u001b[39;49m\u001b[39m\\n\u001b[39;49;00m\u001b[39m                if monkeys[element][1] == \u001b[39;49m\u001b[39m\\'\u001b[39;49;00m\u001b[39m*\u001b[39;49m\u001b[39m\\'\u001b[39;49;00m\u001b[39m:\u001b[39;49m\u001b[39m\\n\u001b[39;49;00m\u001b[39m                    result = val_a * val_b\u001b[39;49m\u001b[39m\\n\u001b[39;49;00m\u001b[39m                if monkeys[element][1] == \u001b[39;49m\u001b[39m\\'\u001b[39;49;00m\u001b[39m/\u001b[39;49m\u001b[39m\\'\u001b[39;49;00m\u001b[39m:\u001b[39;49m\u001b[39m\\n\u001b[39;49;00m\u001b[39m                    result = int(val_a / val_b)\u001b[39;49m\u001b[39m\\n\u001b[39;49;00m\u001b[39m                monkeys[element] = result\u001b[39;49m\u001b[39m\\n\u001b[39;49;00m\u001b[39m                found = True\u001b[39;49m\u001b[39m\\n\u001b[39;49;00m\u001b[39m    for element in to_remove:\u001b[39;49m\u001b[39m\\n\u001b[39;49;00m\u001b[39m        del monkeys[element]\u001b[39;49m\u001b[39m\\n\u001b[39;49;00m\u001b[39m    if found is False:\u001b[39;49m\u001b[39m\\n\u001b[39;49;00m\u001b[39m        break\u001b[39;49m\u001b[39m\\n\u001b[39;49;00m\u001b[39m\\n\u001b[39;49;00m\u001b[39m# print(\u001b[39;49m\u001b[39m\"\u001b[39;49m\u001b[39m**Processed**\u001b[39;49m\u001b[39m\"\u001b[39;49m\u001b[39m)\u001b[39;49m\u001b[39m\\n\u001b[39;49;00m\u001b[39m# for element in monkeys:\u001b[39;49m\u001b[39m\\n\u001b[39;49;00m\u001b[39m#     print(element, monkeys[element])\u001b[39;49m\u001b[39m\\n\u001b[39;49;00m\u001b[39m\\n\u001b[39;49;00m\u001b[39m        # if unknown_monkeys[element][0] in known_monkeys and unknown_monkeys[element][2] in known_monkeys:\u001b[39;49m\u001b[39m\\n\u001b[39;49;00m\u001b[39m        #     val_a = known_monkeys[unknown_monkeys[element][0]]\u001b[39;49m\u001b[39m\\n\u001b[39;49;00m\u001b[39m        #     val_b = known_monkeys[unknown_monkeys[element][2]]\u001b[39;49m\u001b[39m\\n\u001b[39;49;00m\u001b[39m        #     if unknown_monkeys[element][1] == \u001b[39;49m\u001b[39m\\'\u001b[39;49;00m\u001b[39m+\u001b[39;49m\u001b[39m\\'\u001b[39;49;00m\u001b[39m:\u001b[39;49m\u001b[39m\\n\u001b[39;49;00m\u001b[39m        #         result = val_a + val_b\u001b[39;49m\u001b[39m\\n\u001b[39;49;00m\u001b[39m        #     if unknown_monkeys[element][1] == \u001b[39;49m\u001b[39m\\'\u001b[39;49;00m\u001b[39m-\u001b[39;49m\u001b[39m\\'\u001b[39;49;00m\u001b[39m:\u001b[39;49m\u001b[39m\\n\u001b[39;49;00m\u001b[39m        #         result = val_a - val_b\u001b[39;49m\u001b[39m\\n\u001b[39;49;00m\u001b[39m        #     if unknown_monkeys[element][1] == \u001b[39;49m\u001b[39m\\'\u001b[39;49;00m\u001b[39m*\u001b[39;49m\u001b[39m\\'\u001b[39;49;00m\u001b[39m:\u001b[39;49m\u001b[39m\\n\u001b[39;49;00m\u001b[39m        #         result = val_a * val_b\u001b[39;49m\u001b[39m\\n\u001b[39;49;00m\u001b[39m        #     if unknown_monkeys[element][1] == \u001b[39;49m\u001b[39m\\'\u001b[39;49;00m\u001b[39m/\u001b[39;49m\u001b[39m\\'\u001b[39;49;00m\u001b[39m:\u001b[39;49m\u001b[39m\\n\u001b[39;49;00m\u001b[39m        #         result = int(val_a / val_b)\u001b[39;49m\u001b[39m\\n\u001b[39;49;00m\u001b[39m        #     known_monkeys[element] = result\u001b[39;49m\u001b[39m\\n\u001b[39;49;00m\u001b[39m        #     del unknown_monkeys[element]\u001b[39;49m\u001b[39m\\n\u001b[39;49;00m\u001b[39m        #     break\u001b[39;49m\u001b[39m\\n\u001b[39;49;00m\u001b[39m\\n\u001b[39;49;00m\u001b[39m# print(known_monkeys[\u001b[39;49m\u001b[39m\\'\u001b[39;49;00m\u001b[39mroot\u001b[39;49m\u001b[39m\\'\u001b[39;49;00m\u001b[39m])\u001b[39;49m\u001b[39m\\n\u001b[39;49;00m\u001b[39m'\u001b[39;49m)\n",
      "File \u001b[0;32m~/repos/aoc2022/.venv/lib/python3.10/site-packages/IPython/core/interactiveshell.py:2417\u001b[0m, in \u001b[0;36mInteractiveShell.run_cell_magic\u001b[0;34m(self, magic_name, line, cell)\u001b[0m\n\u001b[1;32m   2415\u001b[0m \u001b[39mwith\u001b[39;00m \u001b[39mself\u001b[39m\u001b[39m.\u001b[39mbuiltin_trap:\n\u001b[1;32m   2416\u001b[0m     args \u001b[39m=\u001b[39m (magic_arg_s, cell)\n\u001b[0;32m-> 2417\u001b[0m     result \u001b[39m=\u001b[39m fn(\u001b[39m*\u001b[39;49margs, \u001b[39m*\u001b[39;49m\u001b[39m*\u001b[39;49mkwargs)\n\u001b[1;32m   2418\u001b[0m \u001b[39mreturn\u001b[39;00m result\n",
      "File \u001b[0;32m~/repos/aoc2022/.venv/lib/python3.10/site-packages/IPython/core/magics/execution.py:1166\u001b[0m, in \u001b[0;36mExecutionMagics.timeit\u001b[0;34m(self, line, cell, local_ns)\u001b[0m\n\u001b[1;32m   1163\u001b[0m         \u001b[39mif\u001b[39;00m time_number \u001b[39m>\u001b[39m\u001b[39m=\u001b[39m \u001b[39m0.2\u001b[39m:\n\u001b[1;32m   1164\u001b[0m             \u001b[39mbreak\u001b[39;00m\n\u001b[0;32m-> 1166\u001b[0m all_runs \u001b[39m=\u001b[39m timer\u001b[39m.\u001b[39;49mrepeat(repeat, number)\n\u001b[1;32m   1167\u001b[0m best \u001b[39m=\u001b[39m \u001b[39mmin\u001b[39m(all_runs) \u001b[39m/\u001b[39m number\n\u001b[1;32m   1168\u001b[0m worst \u001b[39m=\u001b[39m \u001b[39mmax\u001b[39m(all_runs) \u001b[39m/\u001b[39m number\n",
      "File \u001b[0;32m/usr/lib/python3.10/timeit.py:206\u001b[0m, in \u001b[0;36mTimer.repeat\u001b[0;34m(self, repeat, number)\u001b[0m\n\u001b[1;32m    204\u001b[0m r \u001b[39m=\u001b[39m []\n\u001b[1;32m    205\u001b[0m \u001b[39mfor\u001b[39;00m i \u001b[39min\u001b[39;00m \u001b[39mrange\u001b[39m(repeat):\n\u001b[0;32m--> 206\u001b[0m     t \u001b[39m=\u001b[39m \u001b[39mself\u001b[39;49m\u001b[39m.\u001b[39;49mtimeit(number)\n\u001b[1;32m    207\u001b[0m     r\u001b[39m.\u001b[39mappend(t)\n\u001b[1;32m    208\u001b[0m \u001b[39mreturn\u001b[39;00m r\n",
      "File \u001b[0;32m~/repos/aoc2022/.venv/lib/python3.10/site-packages/IPython/core/magics/execution.py:156\u001b[0m, in \u001b[0;36mTimer.timeit\u001b[0;34m(self, number)\u001b[0m\n\u001b[1;32m    154\u001b[0m gc\u001b[39m.\u001b[39mdisable()\n\u001b[1;32m    155\u001b[0m \u001b[39mtry\u001b[39;00m:\n\u001b[0;32m--> 156\u001b[0m     timing \u001b[39m=\u001b[39m \u001b[39mself\u001b[39;49m\u001b[39m.\u001b[39;49minner(it, \u001b[39mself\u001b[39;49m\u001b[39m.\u001b[39;49mtimer)\n\u001b[1;32m    157\u001b[0m \u001b[39mfinally\u001b[39;00m:\n\u001b[1;32m    158\u001b[0m     \u001b[39mif\u001b[39;00m gcold:\n",
      "File \u001b[0;32m<magic-timeit>:31\u001b[0m, in \u001b[0;36minner\u001b[0;34m(_it, _timer)\u001b[0m\n",
      "\u001b[0;31mKeyboardInterrupt\u001b[0m: "
     ]
    }
   ],
   "source": [
    "monkeys = {}\n",
    "\n",
    "try:\n",
    "    f = open(\"input\", encoding = 'utf-8')\n",
    "    for row in f:\n",
    "        row = row.strip().split(\": \")\n",
    "        if row[1].isdigit():\n",
    "            monkeys[row[0]] = int(row[1])\n",
    "        else:\n",
    "            elements = row[1].split(\" \")\n",
    "            monkeys[row[0]] = [elements[0], elements[1], elements[2]]\n",
    "\n",
    "finally:\n",
    "    f.close()\n",
    "\n",
    "found_root = False\n",
    "\n",
    "while True and found_root is False:\n",
    "    found = False\n",
    "    to_remove = []\n",
    "    for element in monkeys:\n",
    "        if isinstance(monkeys[element], int):\n",
    "            if element == 'root':\n",
    "                print(monkeys[element])\n",
    "                found_root = True\n",
    "            for it in monkeys:\n",
    "                if not isinstance(monkeys[it], int):\n",
    "                    if monkeys[it][0] == element:\n",
    "                        monkeys[it][0] = monkeys[element]\n",
    "                        found = True\n",
    "                    if monkeys[it][2] == element:\n",
    "                        monkeys[it][2] = monkeys[element]\n",
    "                        found = True\n",
    "            to_remove.append(element)\n",
    "    for element in monkeys:\n",
    "        if not isinstance(monkeys[element], int):\n",
    "            if isinstance(monkeys[element][0], int) and isinstance(monkeys[element][2], int):\n",
    "                val_a = monkeys[element][0]\n",
    "                val_b = monkeys[element][2]\n",
    "                if monkeys[element][1] == '+':\n",
    "                    result = val_a + val_b\n",
    "                if monkeys[element][1] == '-':\n",
    "                    result = val_a - val_b\n",
    "                if monkeys[element][1] == '*':\n",
    "                    result = val_a * val_b\n",
    "                if monkeys[element][1] == '/':\n",
    "                    result = int(val_a / val_b)\n",
    "                monkeys[element] = result\n",
    "                found = True\n",
    "    for element in to_remove:\n",
    "        del monkeys[element]\n",
    "    if found is False:\n",
    "        break"
   ]
  }
 ],
 "metadata": {
  "kernelspec": {
   "display_name": ".venv",
   "language": "python",
   "name": "python3"
  },
  "language_info": {
   "codemirror_mode": {
    "name": "ipython",
    "version": 3
   },
   "file_extension": ".py",
   "mimetype": "text/x-python",
   "name": "python",
   "nbconvert_exporter": "python",
   "pygments_lexer": "ipython3",
   "version": "3.10.6"
  },
  "orig_nbformat": 4,
  "vscode": {
   "interpreter": {
    "hash": "05b9a493738b5f4d39a7aa96b5de2eaf28fb11372ce74d7e29877b4c342919bf"
   }
  }
 },
 "nbformat": 4,
 "nbformat_minor": 2
}
